{
 "cells": [
  {
   "cell_type": "markdown",
   "metadata": {},
   "source": [
    "# Predicting IBD risk from genomic data using machine learning\n",
    "\n",
    "Author: [Samit Watve](#https://www.linkedin.com/in/samitwatve/) \n",
    "    \n",
    "This project was developed as a capstone project for [BrainStation](https://brainstation.io/)'s Data Science Bootcamp which was conducted virtually from September 28th - December 18th 2020. The goal of this project was to create a machine learning model / pipeline, that is capable of predicting whether a test subject has Inflammatory Bowel Disease (IBD) or will develop IBD in the future **solely** using genomic data (i.e. SNP data)."
   ]
  },
  {
   "cell_type": "code",
   "execution_count": null,
   "metadata": {},
   "outputs": [],
   "source": []
  },
  {
   "cell_type": "markdown",
   "metadata": {},
   "source": [
    "This script takes inputs from the `GWAS_analysis_OHE.csv` file and builds a logistic regression model for classifying a patient as healthy or diseased."
   ]
  },
  {
   "cell_type": "code",
   "execution_count": null,
   "metadata": {},
   "outputs": [],
   "source": []
  },
  {
   "cell_type": "markdown",
   "metadata": {},
   "source": [
    "Import data science packages"
   ]
  },
  {
   "cell_type": "code",
   "execution_count": 1,
   "metadata": {},
   "outputs": [],
   "source": [
    "#import data science packages\n",
    "import pandas as pd\n",
    "import numpy as np\n",
    "import seaborn as sns\n",
    "import matplotlib.pyplot as plt\n",
    "import warnings\n",
    "warnings.filterwarnings('ignore')\n",
    "from tqdm import tqdm\n",
    "from sklearn.metrics import accuracy_score\n",
    "from sklearn.utils import shuffle\n",
    "from sklearn.model_selection import train_test_split\n",
    "from sklearn.linear_model import LogisticRegression\n",
    "from sklearn.model_selection import GridSearchCV"
   ]
  },
  {
   "cell_type": "markdown",
   "metadata": {},
   "source": [
    "Read csv into encoded_df"
   ]
  },
  {
   "cell_type": "code",
   "execution_count": 2,
   "metadata": {},
   "outputs": [
    {
     "data": {
      "text/html": [
       "<div>\n",
       "<style scoped>\n",
       "    .dataframe tbody tr th:only-of-type {\n",
       "        vertical-align: middle;\n",
       "    }\n",
       "\n",
       "    .dataframe tbody tr th {\n",
       "        vertical-align: top;\n",
       "    }\n",
       "\n",
       "    .dataframe thead th {\n",
       "        text-align: right;\n",
       "    }\n",
       "</style>\n",
       "<table border=\"1\" class=\"dataframe\">\n",
       "  <thead>\n",
       "    <tr style=\"text-align: right;\">\n",
       "      <th></th>\n",
       "      <th>Unnamed: 0</th>\n",
       "      <th>Gender</th>\n",
       "      <th>rs3769005_CC</th>\n",
       "      <th>rs3769005_CG</th>\n",
       "      <th>rs3769005_GG</th>\n",
       "      <th>imm_1_67459652_AA</th>\n",
       "      <th>imm_1_67459652_AG</th>\n",
       "      <th>imm_1_67459652_GG</th>\n",
       "      <th>imm_7_51057559_AA</th>\n",
       "      <th>imm_7_51057559_AG</th>\n",
       "      <th>...</th>\n",
       "      <th>rs1375131_AA</th>\n",
       "      <th>rs1375131_AG</th>\n",
       "      <th>rs1375131_GG</th>\n",
       "      <th>rs2563397_AG</th>\n",
       "      <th>rs2563397_GG</th>\n",
       "      <th>1kg_1_241045805_AA</th>\n",
       "      <th>1kg_1_241045805_AG</th>\n",
       "      <th>rs34367277_AG</th>\n",
       "      <th>rs34367277_GG</th>\n",
       "      <th>Affectation</th>\n",
       "    </tr>\n",
       "  </thead>\n",
       "  <tbody>\n",
       "    <tr>\n",
       "      <th>0</th>\n",
       "      <td>6198863118_R01C01</td>\n",
       "      <td>0</td>\n",
       "      <td>0</td>\n",
       "      <td>0</td>\n",
       "      <td>1</td>\n",
       "      <td>0</td>\n",
       "      <td>1</td>\n",
       "      <td>0</td>\n",
       "      <td>0</td>\n",
       "      <td>1</td>\n",
       "      <td>...</td>\n",
       "      <td>1</td>\n",
       "      <td>0</td>\n",
       "      <td>0</td>\n",
       "      <td>0</td>\n",
       "      <td>1</td>\n",
       "      <td>1</td>\n",
       "      <td>0</td>\n",
       "      <td>0</td>\n",
       "      <td>1</td>\n",
       "      <td>0</td>\n",
       "    </tr>\n",
       "    <tr>\n",
       "      <th>1</th>\n",
       "      <td>8647968039_R01C02</td>\n",
       "      <td>0</td>\n",
       "      <td>0</td>\n",
       "      <td>0</td>\n",
       "      <td>1</td>\n",
       "      <td>0</td>\n",
       "      <td>1</td>\n",
       "      <td>0</td>\n",
       "      <td>0</td>\n",
       "      <td>0</td>\n",
       "      <td>...</td>\n",
       "      <td>1</td>\n",
       "      <td>0</td>\n",
       "      <td>0</td>\n",
       "      <td>0</td>\n",
       "      <td>1</td>\n",
       "      <td>1</td>\n",
       "      <td>0</td>\n",
       "      <td>0</td>\n",
       "      <td>1</td>\n",
       "      <td>0</td>\n",
       "    </tr>\n",
       "    <tr>\n",
       "      <th>2</th>\n",
       "      <td>6198863118_R02C01</td>\n",
       "      <td>0</td>\n",
       "      <td>0</td>\n",
       "      <td>0</td>\n",
       "      <td>1</td>\n",
       "      <td>1</td>\n",
       "      <td>0</td>\n",
       "      <td>0</td>\n",
       "      <td>0</td>\n",
       "      <td>0</td>\n",
       "      <td>...</td>\n",
       "      <td>1</td>\n",
       "      <td>0</td>\n",
       "      <td>0</td>\n",
       "      <td>0</td>\n",
       "      <td>1</td>\n",
       "      <td>1</td>\n",
       "      <td>0</td>\n",
       "      <td>0</td>\n",
       "      <td>1</td>\n",
       "      <td>0</td>\n",
       "    </tr>\n",
       "    <tr>\n",
       "      <th>3</th>\n",
       "      <td>6198863118_R03C01</td>\n",
       "      <td>1</td>\n",
       "      <td>0</td>\n",
       "      <td>1</td>\n",
       "      <td>0</td>\n",
       "      <td>0</td>\n",
       "      <td>0</td>\n",
       "      <td>1</td>\n",
       "      <td>0</td>\n",
       "      <td>1</td>\n",
       "      <td>...</td>\n",
       "      <td>0</td>\n",
       "      <td>0</td>\n",
       "      <td>1</td>\n",
       "      <td>1</td>\n",
       "      <td>0</td>\n",
       "      <td>0</td>\n",
       "      <td>1</td>\n",
       "      <td>1</td>\n",
       "      <td>0</td>\n",
       "      <td>0</td>\n",
       "    </tr>\n",
       "    <tr>\n",
       "      <th>4</th>\n",
       "      <td>8647968039_R02C02</td>\n",
       "      <td>0</td>\n",
       "      <td>0</td>\n",
       "      <td>0</td>\n",
       "      <td>1</td>\n",
       "      <td>1</td>\n",
       "      <td>0</td>\n",
       "      <td>0</td>\n",
       "      <td>0</td>\n",
       "      <td>0</td>\n",
       "      <td>...</td>\n",
       "      <td>1</td>\n",
       "      <td>0</td>\n",
       "      <td>0</td>\n",
       "      <td>0</td>\n",
       "      <td>1</td>\n",
       "      <td>1</td>\n",
       "      <td>0</td>\n",
       "      <td>0</td>\n",
       "      <td>1</td>\n",
       "      <td>0</td>\n",
       "    </tr>\n",
       "  </tbody>\n",
       "</table>\n",
       "<p>5 rows × 1059 columns</p>\n",
       "</div>"
      ],
      "text/plain": [
       "          Unnamed: 0  Gender  rs3769005_CC  rs3769005_CG  rs3769005_GG  \\\n",
       "0  6198863118_R01C01       0             0             0             1   \n",
       "1  8647968039_R01C02       0             0             0             1   \n",
       "2  6198863118_R02C01       0             0             0             1   \n",
       "3  6198863118_R03C01       1             0             1             0   \n",
       "4  8647968039_R02C02       0             0             0             1   \n",
       "\n",
       "   imm_1_67459652_AA  imm_1_67459652_AG  imm_1_67459652_GG  imm_7_51057559_AA  \\\n",
       "0                  0                  1                  0                  0   \n",
       "1                  0                  1                  0                  0   \n",
       "2                  1                  0                  0                  0   \n",
       "3                  0                  0                  1                  0   \n",
       "4                  1                  0                  0                  0   \n",
       "\n",
       "   imm_7_51057559_AG  ...  rs1375131_AA  rs1375131_AG  rs1375131_GG  \\\n",
       "0                  1  ...             1             0             0   \n",
       "1                  0  ...             1             0             0   \n",
       "2                  0  ...             1             0             0   \n",
       "3                  1  ...             0             0             1   \n",
       "4                  0  ...             1             0             0   \n",
       "\n",
       "   rs2563397_AG  rs2563397_GG  1kg_1_241045805_AA  1kg_1_241045805_AG  \\\n",
       "0             0             1                   1                   0   \n",
       "1             0             1                   1                   0   \n",
       "2             0             1                   1                   0   \n",
       "3             1             0                   0                   1   \n",
       "4             0             1                   1                   0   \n",
       "\n",
       "   rs34367277_AG  rs34367277_GG  Affectation  \n",
       "0              0              1            0  \n",
       "1              0              1            0  \n",
       "2              0              1            0  \n",
       "3              1              0            0  \n",
       "4              0              1            0  \n",
       "\n",
       "[5 rows x 1059 columns]"
      ]
     },
     "execution_count": 2,
     "metadata": {},
     "output_type": "execute_result"
    }
   ],
   "source": [
    "#Read csv into encoded_df\n",
    "encoded_df = pd.read_csv(\"GWAS_analysis_OHE.csv\")\n",
    "encoded_df.head()"
   ]
  },
  {
   "cell_type": "markdown",
   "metadata": {},
   "source": [
    "Reset index to patient id"
   ]
  },
  {
   "cell_type": "code",
   "execution_count": 3,
   "metadata": {},
   "outputs": [
    {
     "data": {
      "text/html": [
       "<div>\n",
       "<style scoped>\n",
       "    .dataframe tbody tr th:only-of-type {\n",
       "        vertical-align: middle;\n",
       "    }\n",
       "\n",
       "    .dataframe tbody tr th {\n",
       "        vertical-align: top;\n",
       "    }\n",
       "\n",
       "    .dataframe thead th {\n",
       "        text-align: right;\n",
       "    }\n",
       "</style>\n",
       "<table border=\"1\" class=\"dataframe\">\n",
       "  <thead>\n",
       "    <tr style=\"text-align: right;\">\n",
       "      <th></th>\n",
       "      <th>Gender</th>\n",
       "      <th>rs3769005_CC</th>\n",
       "      <th>rs3769005_CG</th>\n",
       "      <th>rs3769005_GG</th>\n",
       "      <th>imm_1_67459652_AA</th>\n",
       "      <th>imm_1_67459652_AG</th>\n",
       "      <th>imm_1_67459652_GG</th>\n",
       "      <th>imm_7_51057559_AA</th>\n",
       "      <th>imm_7_51057559_AG</th>\n",
       "      <th>imm_7_51057559_GG</th>\n",
       "      <th>...</th>\n",
       "      <th>rs1375131_AA</th>\n",
       "      <th>rs1375131_AG</th>\n",
       "      <th>rs1375131_GG</th>\n",
       "      <th>rs2563397_AG</th>\n",
       "      <th>rs2563397_GG</th>\n",
       "      <th>1kg_1_241045805_AA</th>\n",
       "      <th>1kg_1_241045805_AG</th>\n",
       "      <th>rs34367277_AG</th>\n",
       "      <th>rs34367277_GG</th>\n",
       "      <th>Affectation</th>\n",
       "    </tr>\n",
       "    <tr>\n",
       "      <th>patient_ID</th>\n",
       "      <th></th>\n",
       "      <th></th>\n",
       "      <th></th>\n",
       "      <th></th>\n",
       "      <th></th>\n",
       "      <th></th>\n",
       "      <th></th>\n",
       "      <th></th>\n",
       "      <th></th>\n",
       "      <th></th>\n",
       "      <th></th>\n",
       "      <th></th>\n",
       "      <th></th>\n",
       "      <th></th>\n",
       "      <th></th>\n",
       "      <th></th>\n",
       "      <th></th>\n",
       "      <th></th>\n",
       "      <th></th>\n",
       "      <th></th>\n",
       "      <th></th>\n",
       "    </tr>\n",
       "  </thead>\n",
       "  <tbody>\n",
       "    <tr>\n",
       "      <th>6198863118_R01C01</th>\n",
       "      <td>0</td>\n",
       "      <td>0</td>\n",
       "      <td>0</td>\n",
       "      <td>1</td>\n",
       "      <td>0</td>\n",
       "      <td>1</td>\n",
       "      <td>0</td>\n",
       "      <td>0</td>\n",
       "      <td>1</td>\n",
       "      <td>0</td>\n",
       "      <td>...</td>\n",
       "      <td>1</td>\n",
       "      <td>0</td>\n",
       "      <td>0</td>\n",
       "      <td>0</td>\n",
       "      <td>1</td>\n",
       "      <td>1</td>\n",
       "      <td>0</td>\n",
       "      <td>0</td>\n",
       "      <td>1</td>\n",
       "      <td>0</td>\n",
       "    </tr>\n",
       "    <tr>\n",
       "      <th>8647968039_R01C02</th>\n",
       "      <td>0</td>\n",
       "      <td>0</td>\n",
       "      <td>0</td>\n",
       "      <td>1</td>\n",
       "      <td>0</td>\n",
       "      <td>1</td>\n",
       "      <td>0</td>\n",
       "      <td>0</td>\n",
       "      <td>0</td>\n",
       "      <td>1</td>\n",
       "      <td>...</td>\n",
       "      <td>1</td>\n",
       "      <td>0</td>\n",
       "      <td>0</td>\n",
       "      <td>0</td>\n",
       "      <td>1</td>\n",
       "      <td>1</td>\n",
       "      <td>0</td>\n",
       "      <td>0</td>\n",
       "      <td>1</td>\n",
       "      <td>0</td>\n",
       "    </tr>\n",
       "    <tr>\n",
       "      <th>6198863118_R02C01</th>\n",
       "      <td>0</td>\n",
       "      <td>0</td>\n",
       "      <td>0</td>\n",
       "      <td>1</td>\n",
       "      <td>1</td>\n",
       "      <td>0</td>\n",
       "      <td>0</td>\n",
       "      <td>0</td>\n",
       "      <td>0</td>\n",
       "      <td>1</td>\n",
       "      <td>...</td>\n",
       "      <td>1</td>\n",
       "      <td>0</td>\n",
       "      <td>0</td>\n",
       "      <td>0</td>\n",
       "      <td>1</td>\n",
       "      <td>1</td>\n",
       "      <td>0</td>\n",
       "      <td>0</td>\n",
       "      <td>1</td>\n",
       "      <td>0</td>\n",
       "    </tr>\n",
       "    <tr>\n",
       "      <th>6198863118_R03C01</th>\n",
       "      <td>1</td>\n",
       "      <td>0</td>\n",
       "      <td>1</td>\n",
       "      <td>0</td>\n",
       "      <td>0</td>\n",
       "      <td>0</td>\n",
       "      <td>1</td>\n",
       "      <td>0</td>\n",
       "      <td>1</td>\n",
       "      <td>0</td>\n",
       "      <td>...</td>\n",
       "      <td>0</td>\n",
       "      <td>0</td>\n",
       "      <td>1</td>\n",
       "      <td>1</td>\n",
       "      <td>0</td>\n",
       "      <td>0</td>\n",
       "      <td>1</td>\n",
       "      <td>1</td>\n",
       "      <td>0</td>\n",
       "      <td>0</td>\n",
       "    </tr>\n",
       "    <tr>\n",
       "      <th>8647968039_R02C02</th>\n",
       "      <td>0</td>\n",
       "      <td>0</td>\n",
       "      <td>0</td>\n",
       "      <td>1</td>\n",
       "      <td>1</td>\n",
       "      <td>0</td>\n",
       "      <td>0</td>\n",
       "      <td>0</td>\n",
       "      <td>0</td>\n",
       "      <td>1</td>\n",
       "      <td>...</td>\n",
       "      <td>1</td>\n",
       "      <td>0</td>\n",
       "      <td>0</td>\n",
       "      <td>0</td>\n",
       "      <td>1</td>\n",
       "      <td>1</td>\n",
       "      <td>0</td>\n",
       "      <td>0</td>\n",
       "      <td>1</td>\n",
       "      <td>0</td>\n",
       "    </tr>\n",
       "  </tbody>\n",
       "</table>\n",
       "<p>5 rows × 1058 columns</p>\n",
       "</div>"
      ],
      "text/plain": [
       "                   Gender  rs3769005_CC  rs3769005_CG  rs3769005_GG  \\\n",
       "patient_ID                                                            \n",
       "6198863118_R01C01       0             0             0             1   \n",
       "8647968039_R01C02       0             0             0             1   \n",
       "6198863118_R02C01       0             0             0             1   \n",
       "6198863118_R03C01       1             0             1             0   \n",
       "8647968039_R02C02       0             0             0             1   \n",
       "\n",
       "                   imm_1_67459652_AA  imm_1_67459652_AG  imm_1_67459652_GG  \\\n",
       "patient_ID                                                                   \n",
       "6198863118_R01C01                  0                  1                  0   \n",
       "8647968039_R01C02                  0                  1                  0   \n",
       "6198863118_R02C01                  1                  0                  0   \n",
       "6198863118_R03C01                  0                  0                  1   \n",
       "8647968039_R02C02                  1                  0                  0   \n",
       "\n",
       "                   imm_7_51057559_AA  imm_7_51057559_AG  imm_7_51057559_GG  \\\n",
       "patient_ID                                                                   \n",
       "6198863118_R01C01                  0                  1                  0   \n",
       "8647968039_R01C02                  0                  0                  1   \n",
       "6198863118_R02C01                  0                  0                  1   \n",
       "6198863118_R03C01                  0                  1                  0   \n",
       "8647968039_R02C02                  0                  0                  1   \n",
       "\n",
       "                   ...  rs1375131_AA  rs1375131_AG  rs1375131_GG  \\\n",
       "patient_ID         ...                                             \n",
       "6198863118_R01C01  ...             1             0             0   \n",
       "8647968039_R01C02  ...             1             0             0   \n",
       "6198863118_R02C01  ...             1             0             0   \n",
       "6198863118_R03C01  ...             0             0             1   \n",
       "8647968039_R02C02  ...             1             0             0   \n",
       "\n",
       "                   rs2563397_AG  rs2563397_GG  1kg_1_241045805_AA  \\\n",
       "patient_ID                                                          \n",
       "6198863118_R01C01             0             1                   1   \n",
       "8647968039_R01C02             0             1                   1   \n",
       "6198863118_R02C01             0             1                   1   \n",
       "6198863118_R03C01             1             0                   0   \n",
       "8647968039_R02C02             0             1                   1   \n",
       "\n",
       "                   1kg_1_241045805_AG  rs34367277_AG  rs34367277_GG  \\\n",
       "patient_ID                                                            \n",
       "6198863118_R01C01                   0              0              1   \n",
       "8647968039_R01C02                   0              0              1   \n",
       "6198863118_R02C01                   0              0              1   \n",
       "6198863118_R03C01                   1              1              0   \n",
       "8647968039_R02C02                   0              0              1   \n",
       "\n",
       "                   Affectation  \n",
       "patient_ID                      \n",
       "6198863118_R01C01            0  \n",
       "8647968039_R01C02            0  \n",
       "6198863118_R02C01            0  \n",
       "6198863118_R03C01            0  \n",
       "8647968039_R02C02            0  \n",
       "\n",
       "[5 rows x 1058 columns]"
      ]
     },
     "execution_count": 3,
     "metadata": {},
     "output_type": "execute_result"
    }
   ],
   "source": [
    "#Reset index to patient id\n",
    "encoded_df.rename(columns={\"Unnamed: 0\":\"patient_ID\"}, inplace=True)\n",
    "encoded_df.set_index(\"patient_ID\", inplace= True)\n",
    "encoded_df.head()"
   ]
  },
  {
   "cell_type": "markdown",
   "metadata": {},
   "source": [
    "Shuffle the dataframe so that diseased and healthy patients are mixed up, not clumped together."
   ]
  },
  {
   "cell_type": "code",
   "execution_count": 4,
   "metadata": {},
   "outputs": [
    {
     "data": {
      "text/plain": [
       "<AxesSubplot:ylabel='patient_ID'>"
      ]
     },
     "execution_count": 4,
     "metadata": {},
     "output_type": "execute_result"
    },
    {
     "data": {
      "image/png": "[encoded data removed]",
      "text/plain": [
       "<Figure size 432x288 with 2 Axes>"
      ]
     },
     "metadata": {
      "needs_background": "light"
     },
     "output_type": "display_data"
    }
   ],
   "source": [
    "#shuffle the dataframe so that diseased and healthy patients are mixed up, not clumped together\n",
    "encoded_df = shuffle(encoded_df)\n",
    "sns.heatmap(encoded_df[[\"Gender\", \"Affectation\"]])"
   ]
  },
  {
   "cell_type": "markdown",
   "metadata": {},
   "source": [
    "Generate X and y dataframes for model fitting"
   ]
  },
  {
   "cell_type": "code",
   "execution_count": 5,
   "metadata": {},
   "outputs": [
    {
     "name": "stdout",
     "output_type": "stream",
     "text": [
      "(2645, 1057)\n",
      "(2645,)\n"
     ]
    }
   ],
   "source": [
    "#Generate X and y dataframes for model fitting\n",
    "X_encoded = encoded_df.drop([\"Affectation\"], axis = 'columns')\n",
    "y = encoded_df[\"Affectation\"]\n",
    "print(X_encoded.shape)\n",
    "print(y.shape)"
   ]
  },
  {
   "cell_type": "markdown",
   "metadata": {},
   "source": [
    "Split the data set into a train set (85%) and the test set (15%)"
   ]
  },
  {
   "cell_type": "code",
   "execution_count": 6,
   "metadata": {},
   "outputs": [
    {
     "name": "stdout",
     "output_type": "stream",
     "text": [
      "X_train : (2248, 1057)\n",
      "X_test : (397, 1057)\n",
      "y_train : (2248,)\n",
      "y_test : (397,)\n"
     ]
    }
   ],
   "source": [
    "#Train test split the data\n",
    "X_train, X_test, y_train, y_test = train_test_split(X_encoded, y, test_size=0.15, random_state=123, stratify = y)\n",
    "\n",
    "#Print sizes of the split data\n",
    "print(f\"X_train : {X_train.shape}\")\n",
    "print(f\"X_test : {X_test.shape}\")\n",
    "print(f\"y_train : {y_train.shape}\")\n",
    "print(f\"y_test : {y_test.shape}\")"
   ]
  },
  {
   "cell_type": "markdown",
   "metadata": {},
   "source": [
    "Check the stratification ratios"
   ]
  },
  {
   "cell_type": "code",
   "execution_count": 7,
   "metadata": {},
   "outputs": [
    {
     "name": "stdout",
     "output_type": "stream",
     "text": [
      "y_train : 0    1391\n",
      "1     857\n",
      "Name: Affectation, dtype: int64\n",
      "Ratio of 0:1 in y_train: 1.62\n",
      "y_test : 0    246\n",
      "1    151\n",
      "Name: Affectation, dtype: int64\n",
      "Ratio of 0:1 in y_test: 1.63\n"
     ]
    }
   ],
   "source": [
    "#Check stratification ratios\n",
    "y_train_strat = len(y_train[y_train == 0]) / len(y_train[y_train == 1])\n",
    "y_test_strat = len(y_test[y_test == 0]) / len(y_test[y_test == 1])\n",
    "print(f\"y_train : {y_train.value_counts()}\")\n",
    "print('Ratio of 0:1 in y_train: %0.2f' % y_train_strat )\n",
    "print(f\"y_test : {y_test.value_counts()}\")\n",
    "print('Ratio of 0:1 in y_test: %0.2f' % y_test_strat) "
   ]
  },
  {
   "cell_type": "markdown",
   "metadata": {},
   "source": [
    "We will use a grid search method to search over a large hyperparameter space in order to find the model that performs the best."
   ]
  },
  {
   "cell_type": "code",
   "execution_count": 8,
   "metadata": {},
   "outputs": [
    {
     "name": "stdout",
     "output_type": "stream",
     "text": [
      "Fitting 5 folds for each of 30 candidates, totalling 150 fits\n"
     ]
    },
    {
     "name": "stderr",
     "output_type": "stream",
     "text": [
      "[Parallel(n_jobs=-1)]: Using backend LokyBackend with 4 concurrent workers.\n",
      "[Parallel(n_jobs=-1)]: Done  42 tasks      | elapsed:  1.8min\n",
      "[Parallel(n_jobs=-1)]: Done 150 out of 150 | elapsed:  2.6min finished\n"
     ]
    }
   ],
   "source": [
    "#Define the model\n",
    "model = LogisticRegression()\n",
    "\n",
    "#For use in various print statements later\n",
    "model_name = str(model).replace(\"()\", \"\")\n",
    "\n",
    "#CREATE LISTS OF HYPER_PARAMETERS TO TUNE\n",
    "\n",
    "#Create list of solvers\n",
    "solvers = ['newton-cg', 'lbfgs', 'liblinear']\n",
    "\n",
    "#Create list of penalty values\n",
    "penalty = ['l1', 'l2']\n",
    "\n",
    "#Create list of c_values\n",
    "c_values = [100, 10, 1.0, 0.1, 0.01]\n",
    "\n",
    "#Convert the lists to a dictionary called grid\n",
    "grid = dict(solver=solvers,penalty=penalty,C=c_values)\n",
    "\n",
    "#Define the grid search\n",
    "grid_search = GridSearchCV(estimator=model, param_grid=grid, n_jobs=-1, cv=5, verbose=1)\n",
    "\n",
    "#Fit the grid search\n",
    "grid_result = grid_search.fit(X_train, y_train)"
   ]
  },
  {
   "cell_type": "markdown",
   "metadata": {},
   "source": [
    "Summarize the results"
   ]
  },
  {
   "cell_type": "code",
   "execution_count": 9,
   "metadata": {},
   "outputs": [
    {
     "name": "stdout",
     "output_type": "stream",
     "text": [
      "Best: 0.82 using {'C': 1.0, 'penalty': 'l1', 'solver': 'liblinear'}\n",
      "nan (nan) with: {'C': 100, 'penalty': 'l1', 'solver': 'newton-cg'}\n",
      "nan (nan) with: {'C': 100, 'penalty': 'l1', 'solver': 'lbfgs'}\n",
      "0.77 (0.01) with: {'C': 100, 'penalty': 'l1', 'solver': 'liblinear'}\n",
      "0.78 (0.01) with: {'C': 100, 'penalty': 'l2', 'solver': 'newton-cg'}\n",
      "0.81 (0.01) with: {'C': 100, 'penalty': 'l2', 'solver': 'lbfgs'}\n",
      "0.78 (0.00) with: {'C': 100, 'penalty': 'l2', 'solver': 'liblinear'}\n",
      "nan (nan) with: {'C': 10, 'penalty': 'l1', 'solver': 'newton-cg'}\n",
      "nan (nan) with: {'C': 10, 'penalty': 'l1', 'solver': 'lbfgs'}\n",
      "0.80 (0.02) with: {'C': 10, 'penalty': 'l1', 'solver': 'liblinear'}\n",
      "0.81 (0.01) with: {'C': 10, 'penalty': 'l2', 'solver': 'newton-cg'}\n",
      "0.81 (0.02) with: {'C': 10, 'penalty': 'l2', 'solver': 'lbfgs'}\n",
      "0.80 (0.01) with: {'C': 10, 'penalty': 'l2', 'solver': 'liblinear'}\n",
      "nan (nan) with: {'C': 1.0, 'penalty': 'l1', 'solver': 'newton-cg'}\n",
      "nan (nan) with: {'C': 1.0, 'penalty': 'l1', 'solver': 'lbfgs'}\n",
      "0.82 (0.01) with: {'C': 1.0, 'penalty': 'l1', 'solver': 'liblinear'}\n",
      "0.81 (0.01) with: {'C': 1.0, 'penalty': 'l2', 'solver': 'newton-cg'}\n",
      "0.81 (0.02) with: {'C': 1.0, 'penalty': 'l2', 'solver': 'lbfgs'}\n",
      "0.81 (0.01) with: {'C': 1.0, 'penalty': 'l2', 'solver': 'liblinear'}\n",
      "nan (nan) with: {'C': 0.1, 'penalty': 'l1', 'solver': 'newton-cg'}\n",
      "nan (nan) with: {'C': 0.1, 'penalty': 'l1', 'solver': 'lbfgs'}\n",
      "0.77 (0.02) with: {'C': 0.1, 'penalty': 'l1', 'solver': 'liblinear'}\n",
      "0.80 (0.01) with: {'C': 0.1, 'penalty': 'l2', 'solver': 'newton-cg'}\n",
      "0.80 (0.01) with: {'C': 0.1, 'penalty': 'l2', 'solver': 'lbfgs'}\n",
      "0.80 (0.01) with: {'C': 0.1, 'penalty': 'l2', 'solver': 'liblinear'}\n",
      "nan (nan) with: {'C': 0.01, 'penalty': 'l1', 'solver': 'newton-cg'}\n",
      "nan (nan) with: {'C': 0.01, 'penalty': 'l1', 'solver': 'lbfgs'}\n",
      "0.62 (0.00) with: {'C': 0.01, 'penalty': 'l1', 'solver': 'liblinear'}\n",
      "0.77 (0.02) with: {'C': 0.01, 'penalty': 'l2', 'solver': 'newton-cg'}\n",
      "0.77 (0.02) with: {'C': 0.01, 'penalty': 'l2', 'solver': 'lbfgs'}\n",
      "0.77 (0.02) with: {'C': 0.01, 'penalty': 'l2', 'solver': 'liblinear'}\n"
     ]
    }
   ],
   "source": [
    "# summarize results\n",
    "print(\"Best: %0.2f using %s\" % (grid_result.best_score_, grid_result.best_params_))\n",
    "means = grid_result.cv_results_['mean_test_score']\n",
    "stds = grid_result.cv_results_['std_test_score']\n",
    "params = grid_result.cv_results_['params']\n",
    "for mean, stdev, param in zip(means, stds, params):\n",
    "    print(\"%0.2f (%0.2f) with: %r\" % (mean, stdev, param))"
   ]
  },
  {
   "cell_type": "markdown",
   "metadata": {},
   "source": [
    "Find the model that has the highest accuracy"
   ]
  },
  {
   "cell_type": "code",
   "execution_count": 10,
   "metadata": {},
   "outputs": [
    {
     "name": "stdout",
     "output_type": "stream",
     "text": [
      "Model = LogisticRegression(penalty='l1', solver='liblinear')\n",
      "Model parameters = {'C': 1.0, 'penalty': 'l1', 'solver': 'liblinear'}\n",
      "Accuracy score on the test set = 0.84\n"
     ]
    }
   ],
   "source": [
    "# Best estimator object\n",
    "print(f\"Model = {grid_result.best_estimator_}\")\n",
    "print(f\"Model parameters = {grid_result.best_params_}\")\n",
    "\n",
    "#Score on the test set\n",
    "print(\"Accuracy score on the test set = %0.2f\" % grid_result.score(X_test, y_test))\n",
    "\n",
    "#Summarizing and storing the grid search in a dataframe\n",
    "grid_search_results = pd.DataFrame(grid_result.cv_results_)\n",
    "grid_search_results = grid_search_results.sort_values(by = 'mean_test_score', ascending = False )\n",
    "\n",
    "#Output the info to a text file\n",
    "filename = \"model outputs/\"+model_name+\"_grid_search_results.txt\"\n",
    "f = open(filename, 'w')\n",
    "print(f\"Best performing model = {grid_result.best_estimator_} \\n\", file = f)\n",
    "print(\"Accuracy score on the test set = %0.2f \\n\" % grid_result.score(X_test, y_test) , file = f)\n",
    "print(f\"Model parameters = {grid_result.best_params_} \\n\", file = f)\n",
    "print(grid_search_results, file = f)\n",
    "f.close()"
   ]
  },
  {
   "cell_type": "markdown",
   "metadata": {},
   "source": [
    "Calculate and plot receiver operating characteristics (ROC) and calculate area under the curve (AUC)"
   ]
  },
  {
   "cell_type": "code",
   "execution_count": 11,
   "metadata": {},
   "outputs": [
    {
     "data": {
      "image/png": "[encoded data removed]",
      "text/plain": [
       "<Figure size 432x288 with 1 Axes>"
      ]
     },
     "metadata": {
      "needs_background": "light"
     },
     "output_type": "display_data"
    },
    {
     "name": "stdout",
     "output_type": "stream",
     "text": [
      "Area under curve (AUC) = 0.91\n",
      "\n"
     ]
    }
   ],
   "source": [
    "#calculate and plot receiver operating characteristics (ROC) and calculate area under the curve (AUC)\n",
    "from sklearn.metrics import roc_curve, roc_auc_score\n",
    "y_proba = grid_result.predict_proba(X_test)[:,1]\n",
    "fprs, tprs, thresholds = roc_curve(y_test, y_proba)\n",
    "roc_auc = roc_auc_score(y_test, y_proba)\n",
    "\n",
    "fig = plt.figure()\n",
    "plt.plot(fprs, tprs, color='darkorange',\n",
    "         lw=2, label='AUC = %0.2f' % roc_auc)\n",
    "plt.plot([0, 1], [0, 1], color='navy', lw=2, linestyle='--')\n",
    "plt.xlabel('False Positive Rate (FPR)')\n",
    "plt.ylabel('True Positive Rate (TPR)')\n",
    "plt.title(f'ROC Curve for Disease Risk Prediction with {model_name}')\n",
    "plt.legend(loc=\"best\")\n",
    "\n",
    "#save ROC curve to file\n",
    "plt.savefig(f\"model outputs/{model_name}_ROC_AUC_curve.pdf\")\n",
    "plt.show()\n",
    "\n",
    "print('Area under curve (AUC) = %0.2f' % roc_auc)\n",
    "print()"
   ]
  },
  {
   "cell_type": "markdown",
   "metadata": {},
   "source": [
    "Generate the confusion matrix"
   ]
  },
  {
   "cell_type": "code",
   "execution_count": 12,
   "metadata": {},
   "outputs": [
    {
     "data": {
      "text/plain": [
       "array([[212,  34],\n",
       "       [ 31, 120]], dtype=int64)"
      ]
     },
     "execution_count": 12,
     "metadata": {},
     "output_type": "execute_result"
    }
   ],
   "source": [
    "from sklearn.metrics import confusion_matrix\n",
    "\n",
    "# get best model from grid search\n",
    "best_model = grid_result.best_estimator_\n",
    "\n",
    "#fit best model on training data\n",
    "best_model_result = best_model.fit(X_train, y_train)\n",
    "\n",
    "#predict y_values by using the .predict method\n",
    "y_pred = best_model_result.predict(X_test)\n",
    "\n",
    "#generate confusion matrix\n",
    "my_confusion_matrix = confusion_matrix(y_test, y_pred)\n",
    "\n",
    "#print confusion matrix\n",
    "my_confusion_matrix "
   ]
  },
  {
   "cell_type": "markdown",
   "metadata": {},
   "source": [
    "Saving the confusion matrix to file"
   ]
  },
  {
   "cell_type": "code",
   "execution_count": 13,
   "metadata": {},
   "outputs": [
    {
     "data": {
      "image/png": "[encoded data removed]",
      "text/plain": [
       "<Figure size 432x288 with 2 Axes>"
      ]
     },
     "metadata": {
      "needs_background": "light"
     },
     "output_type": "display_data"
    }
   ],
   "source": [
    "from sklearn.metrics import ConfusionMatrixDisplay as CMD\n",
    "\n",
    "#plot confusion matrix\n",
    "sns.heatmap(my_confusion_matrix, annot=True, fmt = '.0f') \n",
    "plt.xlabel(\"Predicted classes\")\n",
    "plt.ylabel(\"Actual classes\")\n",
    "plt.title(f'confusion matrix for {model_name}')\n",
    "\n",
    "#save confusion matrix to file\n",
    "plt.savefig(f\"model outputs/{model_name}_confusion_matrix.pdf\")\n",
    "plt.show()"
   ]
  },
  {
   "cell_type": "markdown",
   "metadata": {},
   "source": [
    "Save the classification report to file"
   ]
  },
  {
   "cell_type": "code",
   "execution_count": 14,
   "metadata": {},
   "outputs": [
    {
     "name": "stdout",
     "output_type": "stream",
     "text": [
      "              precision    recall  f1-score   support\n",
      "\n",
      "           0       0.87      0.86      0.87       246\n",
      "           1       0.78      0.79      0.79       151\n",
      "\n",
      "    accuracy                           0.84       397\n",
      "   macro avg       0.83      0.83      0.83       397\n",
      "weighted avg       0.84      0.84      0.84       397\n",
      "\n"
     ]
    }
   ],
   "source": [
    "from sklearn.metrics import classification_report\n",
    "\n",
    "report_initial = classification_report(y_test, y_pred)\n",
    "print(report_initial)\n",
    "\n",
    "#save classification report to file\n",
    "filename = \"model outputs/\"+str(model_name)+\"_classification_report.txt\"\n",
    "f = open(filename, 'w')\n",
    "print(f\"Classification report for {str(model_name)} \\n\", file=f)\n",
    "print(report_initial, file = f)\n",
    "f.close()"
   ]
  }
 ],
 "metadata": {
  "kernelspec": {
   "display_name": "deeplearning",
   "language": "python",
   "name": "deeplearning"
  },
  "language_info": {
   "codemirror_mode": {
    "name": "ipython",
    "version": 3
   },
   "file_extension": ".py",
   "mimetype": "text/x-python",
   "name": "python",
   "nbconvert_exporter": "python",
   "pygments_lexer": "ipython3",
   "version": "3.7.8"
  }
 },
 "nbformat": 4,
 "nbformat_minor": 4
}
